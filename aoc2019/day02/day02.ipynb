{
 "cells": [
  {
   "cell_type": "markdown",
   "id": "371111e6",
   "metadata": {},
   "source": [
    "# Day 2: 1202 Program Alarm\n",
    "\n",
    "_An Intcode program is a list of integers separated by commas (like 1,0,0,3,99)_"
   ]
  },
  {
   "cell_type": "code",
   "execution_count": null,
   "id": "6534301e",
   "metadata": {
    "polyglot_notebook": {
     "kernelName": "javascript"
    }
   },
   "outputs": [],
   "source": [
    "const sampleInput = [1,9,10,3,2,3,11,0,99,30,40,50];\n",
    "const puzzleInput = [1,0,0,3,1,1,2,3,1,3,4,3,1,5,0,3,2,1,10,19,2,9,19,23,2,23,10,27,1,6,27,31,1,31,6,35,2,35,10,39,1,39,5,43,2,6,43,47,2,47,10,51,1,51,6,55,1,55,6,59,1,9,59,63,1,63,9,67,1,67,6,71,2,71,13,75,1,75,5,79,1,79,9,83,2,6,83,87,1,87,5,91,2,6,91,95,1,95,9,99,2,6,99,103,1,5,103,107,1,6,107,111,1,111,10,115,2,115,13,119,1,119,6,123,1,123,2,127,1,127,5,0,99,2,14,0,0];\n",
    "\n",
    "const input = sampleInput;"
   ]
  },
  {
   "cell_type": "code",
   "execution_count": null,
   "id": "eed81a20",
   "metadata": {
    "polyglot_notebook": {
     "kernelName": "javascript"
    }
   },
   "outputs": [],
   "source": [
    "const step = (input, index) => {\n",
    "  const opcode = input[index];\n",
    "  const a = input[input[index + 1]];\n",
    "  const b = input[input[index + 2]];\n",
    "  const c = input[index + 3];\n",
    "\n",
    "  switch (opcode) {\n",
    "    case 1:\n",
    "      input[c] = a + b;\n",
    "      break;\n",
    "    case 2:\n",
    "      input[c] = a * b;\n",
    "      break;\n",
    "    case 99:\n",
    "      return -1;\n",
    "    default:\n",
    "      throw new Error(`Unknown opcode: ${opcode}`);\n",
    "  }\n",
    "  return index + 4;\n",
    "};"
   ]
  },
  {
   "cell_type": "code",
   "execution_count": null,
   "id": "041a8a27",
   "metadata": {
    "polyglot_notebook": {
     "kernelName": "javascript"
    }
   },
   "outputs": [],
   "source": [
    "const index = 0;\n",
    "while(index >= 0) {\n",
    "  index = step(input, index);\n",
    "}"
   ]
  },
  {
   "cell_type": "code",
   "execution_count": null,
   "id": "173c8192",
   "metadata": {
    "polyglot_notebook": {
     "kernelName": "javascript"
    }
   },
   "outputs": [],
   "source": [
    "console.log(input.length);"
   ]
  }
 ],
 "metadata": {
  "kernelspec": {
   "display_name": ".NET (C#)",
   "language": "C#",
   "name": ".net-csharp"
  },
  "polyglot_notebook": {
   "kernelInfo": {
    "defaultKernelName": "javascript",
    "items": [
     {
      "aliases": [],
      "languageName": "javascript",
      "name": "javascript"
     }
    ]
   }
  }
 },
 "nbformat": 4,
 "nbformat_minor": 5
}
